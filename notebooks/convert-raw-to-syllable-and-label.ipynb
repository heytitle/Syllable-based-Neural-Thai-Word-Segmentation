{
 "cells": [
  {
   "cell_type": "code",
   "execution_count": 22,
   "metadata": {},
   "outputs": [],
   "source": [
    "import sys\n",
    "sys.path.append(\"../\") \n",
    "import attacut"
   ]
  },
  {
   "cell_type": "code",
   "execution_count": 23,
   "metadata": {},
   "outputs": [],
   "source": [
    "TRAINING_DATA = \"../data/best-raw/training.txt\"\n",
    "VAL_DATA = \"../data/best-raw/val.txt\""
   ]
  },
  {
   "cell_type": "code",
   "execution_count": 24,
   "metadata": {},
   "outputs": [],
   "source": [
    "def raw_to_syllable_and_label(line):\n",
    "\n",
    "    words = line.strip().split(\"|\")\n",
    "    \n",
    "    line_labels = []\n",
    "    line_syllables = []\n",
    "    for w in words:\n",
    "        syllables = attacut.preprocessing.syllable_tokenize(w)\n",
    "        labels = [\"1\"] + [\"0\"] * (len(syllables) - 1)\n",
    "\n",
    "        assert len(labels) == len(syllables)\n",
    "        line_syllables.extend(syllables)\n",
    "        line_labels.extend(labels)\n",
    "        \n",
    "    return line_syllables, line_labels"
   ]
  },
  {
   "cell_type": "code",
   "execution_count": 25,
   "metadata": {},
   "outputs": [],
   "source": [
    "def convert_file(src, dest):\n",
    "    with open(src, \"r\") as fh, open(dest, \"w\") as fo:\n",
    "        for i, line in enumerate(fh):\n",
    "            line = line.strip()\n",
    "            if len(line) == 0:\n",
    "                continue\n",
    "                \n",
    "            syllables, labels = raw_to_syllable_and_label(line)\n",
    "            \n",
    "            fo.write(\"%s:--:%s\\n\" % (\"~\".join(syllables), \"\".join(labels)))\n",
    "            \n",
    "            if (i+1 % 10000) == 0:\n",
    "                print(\"completed \", i)\n",
    "convert_file(TRAINING_DATA, \"../data/best-syllable-big/training.txt\") "
   ]
  },
  {
   "cell_type": "code",
   "execution_count": 26,
   "metadata": {},
   "outputs": [],
   "source": [
    "convert_file(VAL_DATA, \"../data/best-syllable-big/val.txt\") "
   ]
  },
  {
   "cell_type": "code",
   "execution_count": null,
   "metadata": {},
   "outputs": [],
   "source": []
  }
 ],
 "metadata": {
  "kernelspec": {
   "display_name": "Python 3",
   "language": "python",
   "name": "python3"
  },
  "language_info": {
   "codemirror_mode": {
    "name": "ipython",
    "version": 3
   },
   "file_extension": ".py",
   "mimetype": "text/x-python",
   "name": "python",
   "nbconvert_exporter": "python",
   "pygments_lexer": "ipython3",
   "version": "3.7.7"
  }
 },
 "nbformat": 4,
 "nbformat_minor": 4
}

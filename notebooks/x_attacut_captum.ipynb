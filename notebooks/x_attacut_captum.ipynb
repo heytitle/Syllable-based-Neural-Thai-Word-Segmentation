{
 "cells": [
  {
   "cell_type": "code",
   "execution_count": 1,
   "metadata": {
    "colab": {},
    "colab_type": "code",
    "id": "hj5KUi914C-z"
   },
   "outputs": [],
   "source": [
    "import matplotlib.font_manager as fm\n",
    "\n",
    "# fm.fontManager.addfont(\"./th_sarabun.ttf\")"
   ]
  },
  {
   "cell_type": "code",
   "execution_count": 2,
   "metadata": {
    "colab": {
     "base_uri": "https://localhost:8080/",
     "height": 102
    },
    "colab_type": "code",
    "id": "29hBlEFn49qq",
    "outputId": "7d9591d5-0969-4764-b88a-c4477f087e05"
   },
   "outputs": [],
   "source": [
    "# fm.fontManager.ttflist"
   ]
  },
  {
   "cell_type": "markdown",
   "metadata": {
    "colab_type": "text",
    "id": "BchvACv8f6LK"
   },
   "source": [
    "# Introduction\n",
    "\n",
    "- Input ...\n",
    "- Visualization\n",
    "\n",
    "- get relevance scores\n",
    "  - sensitivyt analysis\n",
    "  - LRP Implementation"
   ]
  },
  {
   "cell_type": "code",
   "execution_count": 3,
   "metadata": {},
   "outputs": [
    {
     "name": "stdout",
     "output_type": "stream",
     "text": [
      "['/Users/pat/projects/attacut/notebooks', '/usr/local/opt/python/Frameworks/Python.framework/Versions/3.7/lib/python37.zip', '/usr/local/opt/python/Frameworks/Python.framework/Versions/3.7/lib/python3.7', '/usr/local/opt/python/Frameworks/Python.framework/Versions/3.7/lib/python3.7/lib-dynload', '', '/Users/pat/projects/attacut/venv/lib/python3.7/site-packages', '/Users/pat/projects/attacut/venv/lib/python3.7/site-packages/IPython/extensions', '/Users/pat/.ipython']\n"
     ]
    }
   ],
   "source": [
    "import sys\n",
    "print(sys.path)\n",
    "import sys\n",
    "sys.path.append(\"../\") "
   ]
  },
  {
   "cell_type": "code",
   "execution_count": 5,
   "metadata": {},
   "outputs": [],
   "source": [
    "from attacut import Tokenizer, char_type"
   ]
  },
  {
   "cell_type": "code",
   "execution_count": 6,
   "metadata": {
    "colab": {},
    "colab_type": "code",
    "id": "rNOT05NMf4_z"
   },
   "outputs": [
    {
     "name": "stdout",
     "output_type": "stream",
     "text": [
      "create new syllable embedding\n",
      "using bi-direction\n"
     ]
    }
   ],
   "source": [
    "import numpy as np\n",
    "import torch\n",
    "import torch.nn.functional as F\n",
    "from attacut import Tokenizer\n",
    "from matplotlib import pyplot as plt\n",
    "\n",
    "\n",
    "sc_cnn = \"../artifact-server/seq_sy_ch_conv_3lv.yaml-2020-05-15--22-41.30/run-13\"\n",
    "sc_lstm = \"../artifact-server/seq_sy_ch_lstm_scheme_b.yaml-2020-05-24--17-52.30/run-6\"\n",
    "atta_sc_cnn = Tokenizer(model=sc_cnn)\n",
    "atta_sc_lstm = Tokenizer(model=sc_lstm)"
   ]
  },
  {
   "cell_type": "code",
   "execution_count": 25,
   "metadata": {
    "colab": {},
    "colab_type": "code",
    "id": "nbe-zSHigaeh"
   },
   "outputs": [],
   "source": [
    "sentence = \"อำนาจตุลาการ คือจุดอ่อนของประชาธิปไตยไทย\"\n",
    "\n",
    "sentences = [\n",
    "  sentence,\n",
    "  \"เวลาในความหมายของวิทยาศาสตร์\",\n",
    "  \"ความแตกต่างอีกประการหนึ่งระหว่างไทยและอินเดีย\",\n",
    "  \"เริ่ม~มี~ผู้~โทร~ศัพท์~ขอ~รับ~คำ~ปรึก~ษา~เนื่อง~จาก~เครียด\".replace(\"~\", \"\"),\n",
    "  \"แผน~ผัง~การ~ขยาย~พันธุ์~พืช~โดย~ย่อ~ๆ\".replace(\"~\", \"\")\n",
    "]"
   ]
  },
  {
   "cell_type": "code",
   "execution_count": 8,
   "metadata": {
    "colab": {
     "base_uri": "https://localhost:8080/",
     "height": 34
    },
    "colab_type": "code",
    "id": "LP3E9BovHtLT",
    "outputId": "03dfd77d-b08b-4326-8132-865f82b5dd4d"
   },
   "outputs": [
    {
     "data": {
      "text/plain": [
       "['อำนาจ', 'ตุลาการ', ' ', 'คือ', 'จุดอ่อน', 'ของ', 'ประชาธิปไตย', 'ไทย']"
      ]
     },
     "execution_count": 8,
     "metadata": {},
     "output_type": "execute_result"
    }
   ],
   "source": [
    "atta_sc_cnn.tokenize(sentence)"
   ]
  },
  {
   "cell_type": "code",
   "execution_count": 9,
   "metadata": {
    "colab": {
     "base_uri": "https://localhost:8080/",
     "height": 34
    },
    "colab_type": "code",
    "id": "HE_j4I_yHuCY",
    "outputId": "0280a034-a69d-4036-e1a6-4e1e6c5ef8d2"
   },
   "outputs": [
    {
     "data": {
      "text/plain": [
       "['อำนาจ', 'ตุลาการ', ' ', 'คือ', 'จุดอ่อน', 'ของ', 'ประชาธิปไตย', 'ไทย']"
      ]
     },
     "execution_count": 9,
     "metadata": {},
     "output_type": "execute_result"
    }
   ],
   "source": [
    "atta_sc_lstm.tokenize(sentence)"
   ]
  },
  {
   "cell_type": "code",
   "execution_count": 12,
   "metadata": {
    "colab": {
     "base_uri": "https://localhost:8080/",
     "height": 68
    },
    "colab_type": "code",
    "id": "64SwEB8TFI0i",
    "outputId": "7befed5d-337f-4359-ddf4-551b3d5c17d2"
   },
   "outputs": [
    {
     "data": {
      "text/plain": [
       "array([1., 0., 0., 0., 0., 1., 0., 0., 0., 0., 0., 0., 1., 1., 0., 0., 1.,\n",
       "       0., 0., 0., 0., 0., 0., 1., 0., 0., 1., 0., 0., 0., 0., 0., 0., 0.,\n",
       "       0., 0., 0., 1., 0., 0.])"
      ]
     },
     "execution_count": 12,
     "metadata": {},
     "output_type": "execute_result"
    }
   ],
   "source": [
    "def word_boundary(model, sentence):\n",
    "    words = model.tokenize(sentence)\n",
    "    mask = np.zeros(len(sentence))\n",
    "\n",
    "    cur_len = 0\n",
    "    for w in words:\n",
    "        mask[cur_len] = 1\n",
    "        cur_len += len(w)\n",
    "    return mask\n",
    "\n",
    "word_boundary(atta_sc_cnn, sentence)"
   ]
  },
  {
   "cell_type": "code",
   "execution_count": 13,
   "metadata": {
    "colab": {},
    "colab_type": "code",
    "id": "ItsI8kaLqqdu"
   },
   "outputs": [],
   "source": [
    "from captum.attr import IntegratedGradients\n",
    "from captum.attr import InterpretableEmbeddingBase, TokenReferenceBase\n",
    "from captum.attr import configure_interpretable_embedding_layer, remove_interpretable_embedding_layer"
   ]
  },
  {
   "cell_type": "code",
   "execution_count": 14,
   "metadata": {},
   "outputs": [],
   "source": [
    "class AttaCutSCWrapper(torch.nn.Module):\n",
    "    def __init__(self, tokenizer):\n",
    "        super().__init__()\n",
    "        self.base = tokenizer\n",
    "\n",
    "    def forward(self, x):\n",
    "        embedding = x\n",
    "\n",
    "        embedding = embedding.permute(0, 2, 1)\n",
    "\n",
    "        conv1 = self.base.model.conv1(embedding)\n",
    "        conv2 = self.base.model.conv2(conv1)\n",
    "        out = self.base.model.conv3(conv2)\n",
    "\n",
    "        out = out.permute(0, 2, 1)\n",
    "        out = F.relu(self.base.model.linear1(out))\n",
    "        out = self.base.model.linear2(out)\n",
    "\n",
    "        return out"
   ]
  },
  {
   "cell_type": "code",
   "execution_count": 15,
   "metadata": {},
   "outputs": [
    {
     "name": "stdout",
     "output_type": "stream",
     "text": [
      "create new syllable embedding\n"
     ]
    },
    {
     "name": "stderr",
     "output_type": "stream",
     "text": [
      "/Users/pat/projects/attacut/venv/lib/python3.7/site-packages/captum/attr/_models/base.py:189: UserWarning: In order to make embedding layers more interpretable they will be replaced with an interpretable embedding layer which wraps the original embedding layer and takes word embedding vectors as inputs of the forward function. This allows us to generate baselines for word embeddings and compute attributions for each embedding dimension. The original embedding layer must be set back by calling `remove_interpretable_embedding_layer` function after model interpretation is finished. \n",
      "  \"In order to make embedding layers more interpretable they will \"\n"
     ]
    }
   ],
   "source": [
    "def interpret_atta_sc(txt, wrapper_func):\n",
    "    wrapper = wrapper_func()\n",
    "\n",
    "    def ig_attac_forward(src, idx, pred):\n",
    "        return torch.softmax(wrapper.forward(src), dim=2)[:, idx, pred]\n",
    "\n",
    "    ig_c = IntegratedGradients(ig_attac_forward)\n",
    "\n",
    "    tokens, features = wrapper.base.dataset.make_feature(txt)\n",
    "    inputs = (features, torch.Tensor(0))\n",
    "\n",
    "    x, _, _ = wrapper.base.dataset.prepare_model_inputs(inputs, device=\"cpu\")\n",
    "\n",
    "    wrapper.eval()\n",
    "    wrapper.zero_grad()\n",
    "    \n",
    "    # pre-computing word embeddings\n",
    "    interpretable_ch_embedding = configure_interpretable_embedding_layer(wrapper.base.model, 'ch_embeddings')\n",
    "    src_ch_indices = torch.LongTensor(x[0][:, 0, :])\n",
    "    src_ch_embedding = interpretable_ch_embedding.indices_to_embeddings(src_ch_indices)\n",
    "    \n",
    "    \n",
    "    interpretable_ch_type_embedding = configure_interpretable_embedding_layer(wrapper.base.model, 'ch_type_embeddings')\n",
    "    src_ch_t_indices = torch.LongTensor(x[0][:, 1, :])\n",
    "    src_ch_t_embedding = interpretable_ch_type_embedding.indices_to_embeddings(src_ch_t_indices)\n",
    "    \n",
    "    \n",
    "    interpretable_sy_embedding = configure_interpretable_embedding_layer(wrapper.base.model, 'sy_embeddings')\n",
    "    src_sy_indices = torch.LongTensor(x[0][:, 2, :])\n",
    "    src_sy_embedding = interpretable_sy_embedding.indices_to_embeddings(src_sy_indices)\n",
    "    \n",
    "    base_ch = interpretable_ch_embedding.indices_to_embeddings(\n",
    "        torch.tensor(wrapper.base.dataset.ch_dict[\"<PAD>\"])\n",
    "    )\n",
    "    \n",
    "    base_ch_ty = interpretable_ch_type_embedding.indices_to_embeddings(\n",
    "        torch.tensor(wrapper.base.dataset.ch_dict[\"<PAD>\"])\n",
    "    )\n",
    "    \n",
    "    base_sy = interpretable_sy_embedding.indices_to_embeddings(\n",
    "        torch.tensor(wrapper.base.dataset.sy_dict[\"<PAD>\"])\n",
    "    )\n",
    "    \n",
    "    \n",
    "    ch_dims = src_ch_embedding.shape[2] + src_ch_t_embedding.shape[2]\n",
    "\n",
    "    embedding = torch.cat([src_ch_embedding, src_ch_t_embedding, src_sy_embedding], dim=2)\n",
    "    dd = torch.cat([base_ch, base_ch_ty, base_sy]).repeat(1, len(tokens), 1)\n",
    "\n",
    "    f_ref = torch.softmax(wrapper(dd), dim=2)\n",
    "    \n",
    "    outputs = wrapper(embedding).squeeze(0)\n",
    "\n",
    "    attribution_igs = np.zeros((len(tokens), len(tokens), 2))\n",
    "\n",
    "    for idx in range(len(tokens)):\n",
    "        pred = np.argmax(outputs[idx, :].detach().numpy())\n",
    "        f = torch.softmax(outputs[idx, :], dim=0)[pred].detach().numpy()\n",
    "\n",
    "        attribution_ig =  ig_c.attribute(\n",
    "            embedding, additional_forward_args=(idx, pred),\n",
    "            n_steps=100,\n",
    "            baselines=dd\n",
    "        ).detach().numpy()\n",
    "\n",
    "        attribution_ig = attribution_ig.squeeze()\n",
    "        total_attribution = np.sum(attribution_ig)\n",
    "        ch_attr, sy_attr = attribution_ig[:, :ch_dims], attribution_ig[:, ch_dims:]\n",
    "        \n",
    "        _f_ref = f_ref[0, idx][pred].detach().numpy()\n",
    "        dff = f-_f_ref\n",
    "        \n",
    "        assert dff - total_attribution < 0.5, f\"different attribution greater than 5e-1 ({dff-total_attribution})\"\n",
    "\n",
    "        attribution_igs[:, idx, 0] = np.sum(ch_attr, axis=1)\n",
    "        attribution_igs[:, idx, 1] = np.sum(sy_attr, axis=1)\n",
    "\n",
    "    return attribution_igs\n",
    "\n",
    "raw_attribution = interpret_atta_sc(sentence, lambda: AttaCutSCWrapper(Tokenizer(model=sc_cnn)))"
   ]
  },
  {
   "cell_type": "code",
   "execution_count": 47,
   "metadata": {},
   "outputs": [
    {
     "name": "stdout",
     "output_type": "stream",
     "text": [
      "create new syllable embedding\n"
     ]
    },
    {
     "name": "stderr",
     "output_type": "stream",
     "text": [
      "/Users/pat/projects/attacut/venv/lib/python3.7/site-packages/captum/attr/_models/base.py:189: UserWarning: In order to make embedding layers more interpretable they will be replaced with an interpretable embedding layer which wraps the original embedding layer and takes word embedding vectors as inputs of the forward function. This allows us to generate baselines for word embeddings and compute attributions for each embedding dimension. The original embedding layer must be set back by calling `remove_interpretable_embedding_layer` function after model interpretation is finished. \n",
      "  \"In order to make embedding layers more interpretable they will \"\n"
     ]
    },
    {
     "name": "stdout",
     "output_type": "stream",
     "text": [
      "0.5999339083128216\n"
     ]
    },
    {
     "data": {
      "image/png": "[encoded data removed]",
      "text/plain": [
       "<Figure size 1080x360 with 2 Axes>"
      ]
     },
     "metadata": {
      "needs_background": "light"
     },
     "output_type": "display_data"
    }
   ],
   "source": [
    "def plot_boundary(boundary):\n",
    "    for i, b in enumerate(boundary):\n",
    "        if b:\n",
    "            plt.axvline(i, color=\"gray\", lw=0.5, alpha=0.5)\n",
    "            plt.axhline(i, color=\"gray\", lw=0.5, alpha=0.5)\n",
    "\n",
    "    plt.plot([0, i], [0, i], color=\"gray\", lw=0.5, alpha=0.5)\n",
    "    \n",
    "def normalized_relevance(relevances):\n",
    "    location_relevance = relevances.sum(axis=2)\n",
    "        \n",
    "    normalized_location_relevance = np.zeros((relevances.shape[0], relevances.shape[0]))\n",
    "    \n",
    "    for i in range(relevances.shape[0]):\n",
    "        nn = np.abs(location_relevance[:, i])\n",
    "        nn = nn / np.sum(nn)\n",
    "        np.testing.assert_almost_equal(np.sum(nn), 1)\n",
    "        normalized_location_relevance[:, i] = nn \n",
    "    return normalized_location_relevance\n",
    "    \n",
    "\n",
    "def plot_sc_relevances(sentence, model, wrapper_func, font=\"Sukhumvit Set\", fontsize=12, name=\"\"):\n",
    "    boundary = word_boundary(model, sentence)\n",
    "\n",
    "    relevances = interpret_atta_sc(sentence, wrapper_func)\n",
    "    characters = list(sentence)\n",
    "\n",
    "    plt.figure(figsize=(15, 5))\n",
    "    ax = plt.subplot(1, 1, 1)\n",
    "\n",
    "    normalized_location_relevance = normalized_relevance(relevances)\n",
    "\n",
    "    plot_boundary(boundary)\n",
    "    print(np.max(normalized_location_relevance))\n",
    "    plt.imshow(normalized_location_relevance, cmap=\"Reds\",\n",
    "               vmin=0, vmax=0.6\n",
    "              )\n",
    "    plt.colorbar()\n",
    "\n",
    "    plt.ylabel(\"Contribution from Position $i$-th\")\n",
    "    plt.title(name)\n",
    "    ix = np.argwhere(boundary).reshape(-1)\n",
    "    plt.yticks(ix, map(lambda i: characters[i],ix), fontname=font, fontsize=fontsize)\n",
    "    plt.xticks(range(len(sentence)), list(sentence), fontname=font, fontsize=fontsize)\n",
    "    plt.xlabel(\"Text\")\n",
    "    ax.tick_params(axis=\"x\", pad=10, which='major',)\n",
    "    \n",
    "\n",
    "\n",
    "plot_sc_relevances(sentences[1], atta_sc_cnn, lambda: AttaCutSCWrapper(Tokenizer(model=sc_cnn)), name=\"DilatedCNN(CH+SY)\")\n",
    "plt.savefig(\"./figures/explained_cnn.png\", dpi=300)"
   ]
  },
  {
   "cell_type": "code",
   "execution_count": 31,
   "metadata": {},
   "outputs": [],
   "source": [
    "class AttaCutLSTMSCWrapper(torch.nn.Module):\n",
    "    def __init__(self, tokenizer):\n",
    "        super().__init__()\n",
    "        self.base = tokenizer\n",
    "\n",
    "    def forward(self, x):\n",
    "        embedding = x\n",
    "\n",
    "        out, _ = self.base.model.lstm(embedding.permute(1, 0, 2))\n",
    "\n",
    "        out = out.permute(1, 0, 2)\n",
    "\n",
    "        out = self.base.model.linear1(out)\n",
    "\n",
    "        return out"
   ]
  },
  {
   "cell_type": "code",
   "execution_count": 48,
   "metadata": {},
   "outputs": [
    {
     "name": "stdout",
     "output_type": "stream",
     "text": [
      "using bi-direction\n",
      "0.49346006657456254\n"
     ]
    },
    {
     "data": {
      "image/png": "[encoded data removed]",
      "text/plain": [
       "<Figure size 1080x360 with 2 Axes>"
      ]
     },
     "metadata": {
      "needs_background": "light"
     },
     "output_type": "display_data"
    }
   ],
   "source": [
    "plot_sc_relevances(sentences[1], atta_sc_lstm, lambda: AttaCutLSTMSCWrapper(Tokenizer(model=sc_lstm)), name=\"BiLSTM(CH+SY)\")\n",
    "plt.savefig(\"./figures/explained_lstm.png\", dpi=300)"
   ]
  },
  {
   "cell_type": "code",
   "execution_count": 25,
   "metadata": {},
   "outputs": [],
   "source": [
    "# for s in sentences:\n",
    "#     plot_sc_relevances(s, atta_sc_lstm, lambda: AttaCutLSTMSCWrapper(Tokenizer(model=sc_lstm)), name=\"BiLSTM(CH+SY)\")"
   ]
  },
  {
   "cell_type": "markdown",
   "metadata": {
    "colab": {},
    "colab_type": "code",
    "id": "xaEKEZNqD1NM"
   },
   "source": [
    "# Compute Stats"
   ]
  },
  {
   "cell_type": "code",
   "execution_count": 33,
   "metadata": {},
   "outputs": [
    {
     "name": "stdout",
     "output_type": "stream",
     "text": [
      "we have 338\n"
     ]
    }
   ],
   "source": [
    "with open(\"../data/best-test/input.txt\") as fh:\n",
    "    best_test = []\n",
    "    for l in fh:\n",
    "        l = l.strip()\n",
    "        if 21 <= len(l) <= 50:\n",
    "            best_test.append(l)\n",
    "\n",
    "print(f\"we have {len(best_test)}\")"
   ]
  },
  {
   "cell_type": "code",
   "execution_count": 34,
   "metadata": {},
   "outputs": [
    {
     "data": {
      "text/plain": [
       "array([0.4, 1.3, 3.7, 1.5, 1. ])"
      ]
     },
     "execution_count": 34,
     "metadata": {},
     "output_type": "execute_result"
    }
   ],
   "source": [
    "def merge_dist(score, width=2):\n",
    "    # score is symmetric metric\n",
    "    \n",
    "    dist = np.zeros(width*2+1)\n",
    "    dist[width] = np.trace(score)\n",
    "    for i in [-1, 1]:\n",
    "\n",
    "        for j in range(1, width+1):\n",
    "            offset = i*j\n",
    "            dist[width+offset] = np.sum(np.diagonal(score, offset=offset))\n",
    "\n",
    "        \n",
    "    return dist\n",
    "\n",
    "\n",
    "merge_dist(\n",
    "    np.array(\n",
    "        [\n",
    "            [0.5, 0.3, 0.1, 0.0, 0.0, 0.0, 0.2],\n",
    "            [0.1, 0.3, 0.3, 0.1, 0.0, 0.0, 0.0],\n",
    "            [0.1, 0.3, 0.8, 0.1, 0.1, 0.0, 0.0],\n",
    "            [0.0, 0.3, 0.2, 0.3, 0.5, 0.1, 0.0],\n",
    "            [0.0, 0.3, 0.2, 0.3, 0.5, 0.1, 0.0],\n",
    "            [0.0, 0.1, 0.2, 0.3, 0.3, 0.5, 0.0],\n",
    "            [0.0, 0.0, 0.2, 0.3, 0.1, 0.3, 0.8],\n",
    "        ]\n",
    "    ).T\n",
    ")"
   ]
  },
  {
   "cell_type": "code",
   "execution_count": null,
   "metadata": {},
   "outputs": [
    {
     "name": "stdout",
     "output_type": "stream",
     "text": [
      "create new syllable embedding\n",
      "create new syllable embedding\n",
      "create new syllable embedding\n",
      "create new syllable embedding\n",
      "create new syllable embedding\n",
      "finished  4\n",
      "create new syllable embedding\n",
      "create new syllable embedding\n",
      "create new syllable embedding\n",
      "create new syllable embedding\n",
      "create new syllable embedding\n",
      "finished  9\n",
      "create new syllable embedding\n",
      "create new syllable embedding\n",
      "create new syllable embedding\n",
      "create new syllable embedding\n",
      "create new syllable embedding\n",
      "finished  14\n",
      "create new syllable embedding\n",
      "create new syllable embedding\n",
      "create new syllable embedding\n",
      "create new syllable embedding\n",
      "create new syllable embedding\n",
      "finished  19\n",
      "create new syllable embedding\n",
      "create new syllable embedding\n",
      "create new syllable embedding\n",
      "create new syllable embedding\n",
      "create new syllable embedding\n",
      "finished  24\n",
      "create new syllable embedding\n",
      "create new syllable embedding\n",
      "create new syllable embedding\n",
      "create new syllable embedding\n",
      "create new syllable embedding\n",
      "finished  29\n",
      "create new syllable embedding\n",
      "create new syllable embedding\n",
      "create new syllable embedding\n",
      "create new syllable embedding\n",
      "create new syllable embedding\n",
      "finished  34\n",
      "create new syllable embedding\n",
      "create new syllable embedding\n",
      "create new syllable embedding\n",
      "create new syllable embedding\n",
      "create new syllable embedding\n",
      "finished  39\n",
      "create new syllable embedding\n",
      "create new syllable embedding\n",
      "create new syllable embedding\n",
      "create new syllable embedding\n",
      "create new syllable embedding\n",
      "finished  44\n",
      "create new syllable embedding\n",
      "create new syllable embedding\n",
      "create new syllable embedding\n",
      "create new syllable embedding\n",
      "create new syllable embedding\n",
      "finished  49\n",
      "create new syllable embedding\n",
      "create new syllable embedding\n",
      "create new syllable embedding\n",
      "create new syllable embedding\n",
      "create new syllable embedding\n",
      "finished  54\n",
      "create new syllable embedding\n",
      "create new syllable embedding\n",
      "create new syllable embedding\n",
      "create new syllable embedding\n",
      "create new syllable embedding\n",
      "finished  59\n",
      "create new syllable embedding\n",
      "create new syllable embedding\n",
      "create new syllable embedding\n",
      "create new syllable embedding\n",
      "create new syllable embedding\n",
      "finished  64\n",
      "create new syllable embedding\n",
      "create new syllable embedding\n",
      "create new syllable embedding\n",
      "create new syllable embedding\n",
      "create new syllable embedding\n",
      "finished  69\n",
      "create new syllable embedding\n",
      "create new syllable embedding\n",
      "create new syllable embedding\n",
      "create new syllable embedding\n",
      "create new syllable embedding\n",
      "finished  74\n",
      "create new syllable embedding\n",
      "create new syllable embedding\n",
      "create new syllable embedding\n",
      "create new syllable embedding\n",
      "create new syllable embedding\n",
      "finished  79\n",
      "create new syllable embedding\n",
      "create new syllable embedding\n",
      "create new syllable embedding\n",
      "create new syllable embedding\n",
      "create new syllable embedding\n",
      "finished  84\n",
      "create new syllable embedding\n",
      "create new syllable embedding\n",
      "create new syllable embedding\n",
      "create new syllable embedding\n",
      "create new syllable embedding\n",
      "finished  89\n",
      "create new syllable embedding\n",
      "create new syllable embedding\n",
      "create new syllable embedding\n",
      "create new syllable embedding\n",
      "create new syllable embedding\n",
      "finished  94\n",
      "create new syllable embedding\n",
      "create new syllable embedding\n",
      "create new syllable embedding\n",
      "create new syllable embedding\n",
      "create new syllable embedding\n",
      "finished  99\n",
      "create new syllable embedding\n",
      "create new syllable embedding\n",
      "create new syllable embedding\n",
      "create new syllable embedding\n",
      "create new syllable embedding\n",
      "finished  104\n",
      "create new syllable embedding\n",
      "create new syllable embedding\n",
      "create new syllable embedding\n",
      "create new syllable embedding\n",
      "create new syllable embedding\n",
      "finished  109\n",
      "create new syllable embedding\n",
      "create new syllable embedding\n",
      "create new syllable embedding\n",
      "create new syllable embedding\n",
      "create new syllable embedding\n",
      "finished  114\n",
      "create new syllable embedding\n",
      "create new syllable embedding\n",
      "create new syllable embedding\n",
      "create new syllable embedding\n",
      "create new syllable embedding\n",
      "finished  119\n",
      "create new syllable embedding\n",
      "create new syllable embedding\n",
      "create new syllable embedding\n",
      "create new syllable embedding\n",
      "create new syllable embedding\n",
      "finished  124\n",
      "create new syllable embedding\n",
      "create new syllable embedding\n",
      "create new syllable embedding\n",
      "create new syllable embedding\n",
      "create new syllable embedding\n",
      "finished  129\n",
      "create new syllable embedding\n",
      "create new syllable embedding\n",
      "create new syllable embedding\n",
      "create new syllable embedding\n",
      "create new syllable embedding\n",
      "finished  134\n",
      "create new syllable embedding\n",
      "create new syllable embedding\n",
      "create new syllable embedding\n",
      "create new syllable embedding\n",
      "create new syllable embedding\n",
      "finished  139\n",
      "create new syllable embedding\n",
      "create new syllable embedding\n",
      "create new syllable embedding\n",
      "create new syllable embedding\n",
      "create new syllable embedding\n",
      "finished  144\n",
      "create new syllable embedding\n",
      "create new syllable embedding\n",
      "create new syllable embedding\n",
      "create new syllable embedding\n",
      "create new syllable embedding\n",
      "finished  149\n",
      "create new syllable embedding\n",
      "create new syllable embedding\n",
      "create new syllable embedding\n",
      "create new syllable embedding\n",
      "create new syllable embedding\n",
      "finished  154\n",
      "create new syllable embedding\n",
      "create new syllable embedding\n",
      "create new syllable embedding\n",
      "create new syllable embedding\n",
      "create new syllable embedding\n",
      "finished  159\n",
      "create new syllable embedding\n",
      "create new syllable embedding\n",
      "create new syllable embedding\n",
      "create new syllable embedding\n",
      "create new syllable embedding\n",
      "finished  164\n",
      "create new syllable embedding\n",
      "create new syllable embedding\n",
      "create new syllable embedding\n",
      "create new syllable embedding\n",
      "create new syllable embedding\n",
      "finished  169\n",
      "create new syllable embedding\n",
      "create new syllable embedding\n",
      "create new syllable embedding\n",
      "create new syllable embedding\n",
      "create new syllable embedding\n",
      "finished  174\n",
      "create new syllable embedding\n",
      "create new syllable embedding\n",
      "create new syllable embedding\n",
      "create new syllable embedding\n",
      "create new syllable embedding\n",
      "finished  179\n",
      "create new syllable embedding\n",
      "create new syllable embedding\n",
      "create new syllable embedding\n",
      "create new syllable embedding\n",
      "create new syllable embedding\n",
      "finished  184\n",
      "create new syllable embedding\n",
      "create new syllable embedding\n",
      "create new syllable embedding\n",
      "create new syllable embedding\n",
      "create new syllable embedding\n",
      "finished  189\n",
      "create new syllable embedding\n",
      "create new syllable embedding\n",
      "create new syllable embedding\n",
      "create new syllable embedding\n",
      "create new syllable embedding\n",
      "finished  194\n",
      "create new syllable embedding\n",
      "create new syllable embedding\n",
      "create new syllable embedding\n",
      "create new syllable embedding\n",
      "create new syllable embedding\n",
      "finished  199\n",
      "create new syllable embedding\n",
      "create new syllable embedding\n",
      "create new syllable embedding\n",
      "create new syllable embedding\n",
      "create new syllable embedding\n",
      "finished  204\n",
      "create new syllable embedding\n",
      "create new syllable embedding\n",
      "create new syllable embedding\n",
      "create new syllable embedding\n",
      "create new syllable embedding\n",
      "finished  209\n",
      "create new syllable embedding\n",
      "create new syllable embedding\n",
      "create new syllable embedding\n",
      "create new syllable embedding\n",
      "create new syllable embedding\n",
      "finished  214\n",
      "create new syllable embedding\n",
      "create new syllable embedding\n",
      "create new syllable embedding\n",
      "create new syllable embedding\n",
      "create new syllable embedding\n",
      "finished  219\n",
      "create new syllable embedding\n",
      "create new syllable embedding\n",
      "create new syllable embedding\n",
      "create new syllable embedding\n",
      "create new syllable embedding\n",
      "finished  224\n",
      "create new syllable embedding\n",
      "create new syllable embedding\n"
     ]
    }
   ],
   "source": [
    "width = 20\n",
    "def compute_dist(data, wrapper_func):\n",
    "    dist = np.zeros(2*width+1)\n",
    "    for i, sentence in enumerate(data):\n",
    "\n",
    "        relevances = interpret_atta_sc(sentence, wrapper_func)\n",
    "\n",
    "        relevances = np.abs(np.sum(relevances, axis=2))\n",
    "\n",
    "        dist += merge_dist(relevances, width=width)\n",
    "        if (i + 1) % 5 == 0:\n",
    "            print(\"finished \", i)\n",
    "    return dist\n",
    "            \n",
    "dist = compute_dist(best_test, lambda: AttaCutSCWrapper(Tokenizer(model=sc_cnn)))"
   ]
  },
  {
   "cell_type": "code",
   "execution_count": 40,
   "metadata": {},
   "outputs": [
    {
     "data": {
      "text/plain": [
       "array([0.        , 0.        , 0.        , 0.        , 0.        ,\n",
       "       0.        , 0.        , 0.        , 0.        , 0.        ,\n",
       "       0.        , 0.        , 0.        , 0.        , 0.15608791,\n",
       "       0.13097065, 0.22885318, 0.1324545 , 0.65627177, 1.47639476,\n",
       "       3.05169535, 1.49226338, 0.84617364, 0.16117295, 0.18673177,\n",
       "       0.05508922, 0.10973149, 0.        , 0.        , 0.        ,\n",
       "       0.        , 0.        , 0.        , 0.        , 0.        ,\n",
       "       0.        , 0.        , 0.        , 0.        , 0.        ,\n",
       "       0.        ])"
      ]
     },
     "execution_count": 40,
     "metadata": {},
     "output_type": "execute_result"
    }
   ],
   "source": [
    "dist"
   ]
  },
  {
   "cell_type": "code",
   "execution_count": null,
   "metadata": {},
   "outputs": [],
   "source": [
    "dist_lstm = compute_dist(best_test[:1], lambda: AttaCutLSTMSCWrapper(Tokenizer(model=sc_lstm)))"
   ]
  },
  {
   "cell_type": "code",
   "execution_count": null,
   "metadata": {},
   "outputs": [],
   "source": [
    "dist_lstm"
   ]
  },
  {
   "cell_type": "code",
   "execution_count": 46,
   "metadata": {},
   "outputs": [
    {
     "data": {
      "image/png": "[encoded data removed]",
      "text/plain": [
       "<Figure size 432x288 with 1 Axes>"
      ]
     },
     "metadata": {
      "needs_background": "light"
     },
     "output_type": "display_data"
    }
   ],
   "source": [
    "conf_filter_width = 7 \n",
    "plt.plot(dist/np.sum(dist), label=\"DilatedCNN(CH+SY)\")\n",
    "plt.plot(dist_lstm/np.sum(dist_lstm), label=\"BiLSTM(CH+SY)-SchemeB\")\n",
    "plt.xticks(\n",
    "    [0, width-conf_filter_width, width-3, width, width+3, width+conf_filter_width, 2*width],\n",
    "    [f\"L{width}\", \"L7\", \"L3\", \"C\", \"R3\", \"R7\", f\"R{width}\"]);\n",
    "plt.axvline(width-conf_filter_width, lw=1, ls=\"--\", color=\"black\")\n",
    "plt.axvline(width+conf_filter_width, lw=1, ls=\"--\", color=\"black\")\n",
    "plt.legend();\n",
    "plt.ylabel(\"Attribution Percentage\")\n",
    "plt.xlabel(\"Location\")\n",
    "plt.savefig(\"./figures/attribution-dist.png\", dpi=300)"
   ]
  },
  {
   "cell_type": "code",
   "execution_count": null,
   "metadata": {},
   "outputs": [],
   "source": []
  }
 ],
 "metadata": {
  "accelerator": "GPU",
  "colab": {
   "collapsed_sections": [],
   "name": "x-attacut-captum.ipynb",
   "provenance": []
  },
  "kernelspec": {
   "display_name": "Attacut",
   "language": "python",
   "name": "attacut"
  },
  "language_info": {
   "codemirror_mode": {
    "name": "ipython",
    "version": 3
   },
   "file_extension": ".py",
   "mimetype": "text/x-python",
   "name": "python",
   "nbconvert_exporter": "python",
   "pygments_lexer": "ipython3",
   "version": "3.7.7"
  }
 },
 "nbformat": 4,
 "nbformat_minor": 1
}

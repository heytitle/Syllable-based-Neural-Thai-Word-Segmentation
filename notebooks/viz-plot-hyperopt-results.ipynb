{
 "cells": [
  {
   "cell_type": "code",
   "execution_count": 8,
   "metadata": {},
   "outputs": [],
   "source": [
    "from matplotlib import pyplot as plt\n",
    "import pandas as pd"
   ]
  },
  {
   "cell_type": "code",
   "execution_count": 4,
   "metadata": {},
   "outputs": [],
   "source": [
    "data = {\n",
    "    \"DilatedCNN(CH)\": \"../stats/seq_ch_conv_3lv.yaml-2020-05-15--13-36.30.csv\",\n",
    "    \"DilatedCNN(CH+SY)\": \"../stats/seq_sy_ch_conv_3lv.yaml-2020-05-15--22-41.30\",\n",
    "}"
   ]
  },
  {
   "cell_type": "code",
   "execution_count": 14,
   "metadata": {},
   "outputs": [
    {
     "data": {
      "image/png": "[encoded data removed]",
      "text/plain": [
       "<Figure size 360x360 with 1 Axes>"
      ]
     },
     "metadata": {
      "needs_background": "light"
     },
     "output_type": "display_data"
    }
   ],
   "source": [
    "def maker(k):\n",
    "    if \"CNN\" in k:\n",
    "        return \"o\"\n",
    "    elif \"UniLSTM\" in k:\n",
    "        return \"^\"\n",
    "\n",
    "def plot_hyperopt(families, n=10):\n",
    "    plt.figure(figsize=(5, 5))\n",
    "    for k in families:\n",
    "        df = pd.read_csv(data[k]).sort_values(by=\"best-val:word_level:f1\")[:n]\n",
    "        plt.scatter(df[\"training_took\"] / 60, df[\"best-val:word_level:f1\"])\n",
    "    plt.ylabel(\"BEST Validation Word Level f1\")\n",
    "    plt.xlabel(\"Training Time\")\n",
    "plot_hyperopt([\"DilatedCNN(CH)\"])"
   ]
  },
  {
   "cell_type": "code",
   "execution_count": null,
   "metadata": {},
   "outputs": [],
   "source": []
  }
 ],
 "metadata": {
  "kernelspec": {
   "display_name": "Python 3",
   "language": "python",
   "name": "python3"
  },
  "language_info": {
   "codemirror_mode": {
    "name": "ipython",
    "version": 3
   },
   "file_extension": ".py",
   "mimetype": "text/x-python",
   "name": "python",
   "nbconvert_exporter": "python",
   "pygments_lexer": "ipython3",
   "version": "3.7.7"
  }
 },
 "nbformat": 4,
 "nbformat_minor": 4
}

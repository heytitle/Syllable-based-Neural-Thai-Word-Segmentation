{
 "cells": [
  {
   "cell_type": "code",
   "execution_count": 7,
   "metadata": {},
   "outputs": [],
   "source": [
    "# read training data\n",
    "import numpy as np"
   ]
  },
  {
   "cell_type": "code",
   "execution_count": 9,
   "metadata": {},
   "outputs": [],
   "source": [
    "num_chars = 0\n",
    "num_syllables = 0 \n",
    "with open(\"../data/best-syllable-big/training.txt\", \"r\") as fh:\n",
    "    for i, l in enumerate(fh):\n",
    "        syllables, labels = l.strip().split(\":--:\")\n",
    "        syllables = syllables.split(\"~\")\n",
    "        labels = np.array(list(labels))\n",
    "        assert len(syllables) == len(labels)\n",
    "        num_syllables += len(syllables)\n",
    "        num_chars += len(\"\".join(syllables))\n",
    "        \n",
    "#         if i > 5:\n",
    "#             break\n",
    "# #         print(l)"
   ]
  },
  {
   "cell_type": "code",
   "execution_count": 10,
   "metadata": {},
   "outputs": [
    {
     "name": "stdout",
     "output_type": "stream",
     "text": [
      "0.35040029302215253\n"
     ]
    }
   ],
   "source": [
    "print(f\"{num_syllables/num_chars}\")"
   ]
  },
  {
   "cell_type": "code",
   "execution_count": null,
   "metadata": {},
   "outputs": [],
   "source": []
  }
 ],
 "metadata": {
  "kernelspec": {
   "display_name": "Python 3",
   "language": "python",
   "name": "python3"
  },
  "language_info": {
   "codemirror_mode": {
    "name": "ipython",
    "version": 3
   },
   "file_extension": ".py",
   "mimetype": "text/x-python",
   "name": "python",
   "nbconvert_exporter": "python",
   "pygments_lexer": "ipython3",
   "version": "3.7.7"
  }
 },
 "nbformat": 4,
 "nbformat_minor": 4
}
